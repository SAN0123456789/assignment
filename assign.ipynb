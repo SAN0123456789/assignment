{
  "nbformat": 4,
  "nbformat_minor": 0,
  "metadata": {
    "colab": {
      "provenance": [],
      "authorship_tag": "ABX9TyP0Z5bKXTRRrcdJ75UI73W/",
      "include_colab_link": true
    },
    "kernelspec": {
      "name": "python3",
      "display_name": "Python 3"
    },
    "language_info": {
      "name": "python"
    }
  },
  "cells": [
    {
      "cell_type": "markdown",
      "metadata": {
        "id": "view-in-github",
        "colab_type": "text"
      },
      "source": [
        "<a href=\"https://colab.research.google.com/github/SAN0123456789/assignment/blob/main/assign.ipynb\" target=\"_parent\"><img src=\"https://colab.research.google.com/assets/colab-badge.svg\" alt=\"Open In Colab\"/></a>"
      ]
    },
    {
      "cell_type": "code",
      "execution_count": null,
      "metadata": {
        "colab": {
          "base_uri": "https://localhost:8080/"
        },
        "id": "Um-SZcSip-fC",
        "outputId": "107f5d48-acb8-43fb-fe6b-70bd15b94167"
      },
      "outputs": [
        {
          "output_type": "stream",
          "name": "stdout",
          "text": [
            "Enter the first number 8\n",
            "Enter the second number 7\n",
            "Enter the operation + - * / *\n",
            "0.7142857142857143\n",
            "56\n",
            "\n"
          ]
        }
      ],
      "source": [
        "a=int(input(\"Enter the first number \"))\n",
        "b=int(input(\"Enter the second number \"))\n",
        "c=input(\"Enter the operation + - * / \")\n",
        "\n",
        "if(c==\"+\"):\n",
        "  d=a+b\n",
        "elif(c==\"-\"):\n",
        "  d=a-b\n",
        "elif(c==\"*\"):\n",
        "  d=a*b\n",
        "elif(c==\"/\"):\n",
        "  d=a/b\n",
        "\n",
        "v=str(d)\n",
        "\n",
        "f=open(\"text.txt\",\"a+\")\n",
        "f.write(v+\"\\n\")\n",
        "f.seek(0)\n",
        "print(f.read())\n",
        "f.close()\n",
        "\n",
        "\n",
        "\n"
      ]
    },
    {
      "cell_type": "code",
      "source": [],
      "metadata": {
        "id": "pJy4P3mxSYig"
      },
      "execution_count": null,
      "outputs": []
    }
  ]
}